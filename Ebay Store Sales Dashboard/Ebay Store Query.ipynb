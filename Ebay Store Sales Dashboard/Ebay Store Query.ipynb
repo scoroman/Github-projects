{
 "cells": [
  {
   "cell_type": "code",
   "execution_count": null,
   "metadata": {},
   "outputs": [],
   "source": [
    "import pandas as pd\n",
    "import seaborn as sns\n",
    "import numpy as np\n",
    "import matplotlib.pyplot as plt\n",
    "\n",
    "import requests\n",
    "import xml.etree.ElementTree as ET\n",
    "import pandas as pd\n",
    "import os\n",
    "import json\n",
    "import string\n",
    "import requests\n",
    "import xmltodict\n",
    "import datetime\n",
    "import base64\n",
    "import datetime as dt\n",
    "\n",
    "from dotenv import load_dotenv\n",
    "load_dotenv()\n"
   ]
  },
  {
   "cell_type": "code",
   "execution_count": null,
   "metadata": {},
   "outputs": [],
   "source": [
    "# To call the get_results function and execute the Finding API, provide the APPLICATION_ID and payload as arguments\n",
    "api_key = os.environ.get('EBAY_API_KEY')\n",
    "\n",
    "# To execute the Trading API, provide the APPLICATION_ID, DEVELOPER_ID, CERTIFICATION_ID and payload as arguments\n",
    "cert_id = os.environ.get('EBAY_CERT_ID')\n",
    "dev_id = os.environ.get('EBAY_DEV_ID')\n",
    "\n",
    "user_token = os.environ.get('USER_TOKEN')\n",
    "\n",
    "# eBay API credentials\n",
    "endpoint = 'https://api.ebay.com/ws/api.dll'\n",
    "\n",
    "# Define API headers\n",
    "headers = {\n",
    "    'X-EBAY-API-CALL-NAME': 'GetOrders',\n",
    "    'X-EBAY-API-COMPATIBILITY-LEVEL': '967',\n",
    "    'X-EBAY-API-DEV-NAME': dev_id,\n",
    "    'X-EBAY-API-APP-NAME': api_key,\n",
    "    'X-EBAY-API-CERT-NAME': cert_id,\n",
    "    'X-EBAY-API-SITEID': '0',\n",
    "    'Content-Type': 'text/xml'\n",
    "}"
   ]
  },
  {
   "cell_type": "code",
   "execution_count": null,
   "metadata": {},
   "outputs": [],
   "source": [
    "\n",
    "\n",
    "def get_orders():\n",
    "\n",
    "      # Set the request fields\n",
    "    fields = {\n",
    "        'DetailLevel': 'ReturnAll',\n",
    "        'OrderStatus': 'Completed',\n",
    "        'CreateTimeFrom': dt.datetime.now() - dt.timedelta(days=300),\n",
    "        'CreateTimeTo': dt.datetime.now(),\n",
    "        'OrderRole': 'Seller',\n",
    "        'Pagination': {\n",
    "            'EntriesPerPage': 100,\n",
    "            'PageNumber': 1\n",
    "        },\n",
    "        'OrderStatusFilter': 'Paid'\n",
    "    }\n",
    "    \n",
    "    # Define API request payload\n",
    "    payload = f'''\n",
    "    <?xml version=\"1.0\" encoding=\"utf-8\"?>\n",
    "    <GetOrdersRequest xmlns=\"urn:ebay:apis:eBLBaseComponents\">\n",
    "      <RequesterCredentials>\n",
    "        <eBayAuthToken>{user_token}</eBayAuthToken>\n",
    "      </RequesterCredentials>\n",
    "      <ModTimeFrom>2022-01-01T00:00:00.000Z</ModTimeFrom>\n",
    "      <ModTimeTo>2023-06-21T23:59:59.999Z</ModTimeTo>\n",
    "    '''\n",
    "    \n",
    "    # Add fields to the payload\n",
    "    for key, value in fields.items():\n",
    "        if isinstance(value, dict):\n",
    "            for inner_key, inner_value in value.items():\n",
    "                payload += f'\\n  <{key}><{inner_key}>{inner_value}</{inner_key}></{key}>'\n",
    "        else:\n",
    "            payload += f'\\n  <{key}>{value}</{key}>'\n",
    "    \n",
    "    # Close the payload XML tag\n",
    "    payload += '\\n</GetOrdersRequest>'\n",
    "\n",
    "    response = requests.post(endpoint, headers=headers, json=payload)\n",
    "\n",
    "\n",
    "    # Parse the response and get the order information\n",
    "    orders = response.reply.OrderArray.Order\n",
    "\n",
    "    sales_data = []\n",
    "    for order in orders:\n",
    "        try:\n",
    "            payment_status = order.MonetaryDetails.Payments.Payment.PaymentStatus\n",
    "            ebay_payment_status = order.CheckoutStatus.eBayPaymentStatus\n",
    "            order_id = order.OrderID\n",
    "            item_id = order.TransactionArray.Transaction[0].Item.ItemID\n",
    "            item_response = trading_api.execute('GetItem', {'ItemID': item_id})\n",
    "            category_name = item_response.reply.Item.PrimaryCategory.CategoryName\n",
    "            title = order.TransactionArray.Transaction[0].Item.Title\n",
    "            quantity_purchased = order.TransactionArray.Transaction[0].QuantityPurchased\n",
    "            buyer_username = order.BuyerUserID\n",
    "            buyer_full_name = order.ShippingAddress.Name\n",
    "            buyer_address_line1 = order.ShippingAddress.Street1\n",
    "            buyer_address_line2 = order.ShippingAddress.Street2\n",
    "            buyer_city = order.ShippingAddress.CityName\n",
    "            buyer_state = order.ShippingAddress.StateOrProvince\n",
    "            buyer_postal_code = order.ShippingAddress.PostalCode\n",
    "            buyer_country = order.ShippingAddress.CountryName\n",
    "            item_price = order.Total\n",
    "            order_date = order.CreatedTime\n",
    "\n",
    "            # Append the order data to the sales_data list\n",
    "            sales_data.append({\n",
    "                'PaymentStatus': payment_status,\n",
    "                'eBayPaymentStatus': ebay_payment_status,\n",
    "                'OrderID': order_id,\n",
    "                'ItemID': item_id,\n",
    "                'CategoryName': category_name,\n",
    "                'Title': title,\n",
    "                'QuantityPurchased': quantity_purchased,\n",
    "                'BuyerUsername': buyer_username,\n",
    "                'BuyerFullName': buyer_full_name,\n",
    "                'BuyerAddressLine1': buyer_address_line1,\n",
    "                'BuyerAddressLine2': buyer_address_line2,\n",
    "                'BuyerCity': buyer_city,\n",
    "                'BuyerState': buyer_state,\n",
    "                'BuyerPostalCode': buyer_postal_code,\n",
    "                'BuyerCountry': buyer_country,\n",
    "                'ItemPrice': item_price,\n",
    "                'OrderDate': order_date\n",
    "            })\n",
    "\n",
    "        except Exception as e:\n",
    "            print(f\"This is the error: {e}\")\n",
    "            print(\"Moving on...\")\n",
    "            continue\n",
    "\n",
    "    # Create a DataFrame from the sales_data list\n",
    "    df = pd.DataFrame(sales_data)\n",
    "\n",
    "    # Fill missing fields with 'N/A'\n",
    "    df.fillna('N/A', inplace=True)\n",
    "\n",
    "    #print(df)\n",
    "    return df\n",
    "\n",
    "sales_report = get_orders()\n",
    "print(sales_report)"
   ]
  },
  {
   "cell_type": "code",
   "execution_count": null,
   "metadata": {},
   "outputs": [],
   "source": [
    "# Path to the CSV file\n",
    "csv_file = r'C:\\Users\\Samuel Coromandel\\Ebay Store Sales Dashboard\\Ebay Store\\eBay-ListingsSalesReport.csv'\n",
    "\n",
    "# Read the CSV file with the first row as column headers\n",
    "salesreport_df = pd.read_csv(csv_file, header=7)\n",
    "\n",
    "# Set display options to show all columns without truncation\n",
    "pd.set_option('display.max_columns', None)\n",
    "pd.set_option('display.expand_frame_repr', False)\n",
    "\n",
    "# drop useless column data\n",
    "columns_to_remove = [\"Shipping and handling paid by buyer to you\", \"Insertion fees\", \"Optional listing upgrade fees\", \"Ads Standard fees\", \"Ads Advanced fees\", \"Ads Express fees\", \"International fees\", \"Other eBay fees\", \"Deposit processing fees\", \"Taxes and government fees paid by buyer to you\", \"Shipping labels cost (Amount you paid to buy shipping labels on eBay)\", \"Quantity sold via promoted listing\", \"Quantity sold via Seller Initiated Offers\"]\n",
    "salesreport_df.drop(columns=columns_to_remove, inplace=True)\n",
    "\n",
    "# Print the DataFrame with the updated column headers\n",
    "print(salesreport_df)"
   ]
  },
  {
   "cell_type": "code",
   "execution_count": null,
   "metadata": {},
   "outputs": [],
   "source": [
    "purchasehistory_df = pd.read_csv(r'C:\\Users\\Samuel Coromandel\\Ebay Store Sales Dashboard\\Ebay Store\\COGS.csv')\n",
    "#purchasehistory_df.drop(columns=['OrderNotes', 'TrackingNumber', 'View Order Detail'], inplace=True)\n",
    "print(purchasehistory_df)"
   ]
  },
  {
   "cell_type": "code",
   "execution_count": null,
   "metadata": {},
   "outputs": [],
   "source": [
    "otherpurchases_df = pd.read_csv(r'C:\\Users\\Samuel Coromandel\\Ebay Store Sales Dashboard\\Ebay Store\\COGS_other.csv', encoding='latin1')\n",
    "#purchasehistory_df.drop(columns=['OrderNotes', 'TrackingNumber', 'View Order Detail'], inplace=True)\n",
    "print(otherpurchases_df)"
   ]
  },
  {
   "cell_type": "code",
   "execution_count": null,
   "metadata": {},
   "outputs": [],
   "source": [
    "#sql logic: salesreport_df as sr join purchasehistory_df as ph on sr.'Listing title' = ph.'ItemName'\n",
    "\n",
    "# Problem: Ideally perform the join on 'Listing title' and 'ItemName' columns, however, some title & names don't match\n",
    "# Solution 1: spend time writing a complex script to match vaguely matching strings\n",
    "# Solution 2: use my custom ebay app to get the matching dictionary key-value pairs for item numbers (time consuming)\n",
    "# Solution 3: Don't use the conjoined data to analyze metrics. create a new column based on custom formula for the metrics needed \n",
    "\n",
    "# Joining the data for reference but it's not usable in the current state.  \n",
    "# logic: pd.concat([df1,df2], axis=1)\n",
    "# Concatenate the DataFrames vertically to stack the values on top of each other\n",
    "join_df = pd.concat([purchasehistory_df, otherpurchases_df], ignore_index=True)\n",
    "\n",
    "# Print the joined DataFrame\n",
    "print(join_df.tail(20))"
   ]
  },
  {
   "attachments": {},
   "cell_type": "markdown",
   "metadata": {},
   "source": [
    "## Exploratory Data Analysis"
   ]
  },
  {
   "cell_type": "code",
   "execution_count": null,
   "metadata": {},
   "outputs": [],
   "source": [
    "def check_data(dataframe, head=5):\n",
    "    print(\" SHAPE \".center(70,'-'))\n",
    "    print('Rows: {}'.format(dataframe.shape[0]))\n",
    "    print('Columns: {}'.format(dataframe.shape[1]))\n",
    "    print(\" TYPES \".center(70,'-'))\n",
    "    print(dataframe.dtypes)\n",
    "    print(\" HEAD \".center(70,'-'))\n",
    "    print(dataframe.head(head))\n",
    "    print(\" TAIL \".center(70,'-'))\n",
    "    print(dataframe.tail(head))\n",
    "    print(\" MISSING VALUES \".center(70,'-'))\n",
    "    print(dataframe.isnull().sum())\n",
    "    print(\" DUPLICATED VALUES \".center(70,'-'))\n",
    "    print(dataframe.duplicated().sum())\n",
    "    print(\" QUANTILES \".center(70,'-'))\n",
    "    print(dataframe.quantile([0, 0.05, 0.50, 0.95, 0.99, 1]).T)\n",
    "    \n",
    "check_data(join_df)"
   ]
  },
  {
   "cell_type": "code",
   "execution_count": null,
   "metadata": {},
   "outputs": [],
   "source": [
    "drop_rows = [\"Heavy Duty Micro USB Fast Charger Data Cable Cord For Samsung Android HTC LG US\",\n",
    "        \"Memory Card 32GB 64GB 128GB SDXC/SDHC Mini sd card class 10 TF Flash 8GB 16GB Mi\",\n",
    "        \"Exercise Bike Home Gym  Indoor Cycling Bike Stationary Bicycle Cardio Workout\",\n",
    "        \"LG V60 ThinQ 5G LMV600AM GSM Unlocked (AT&T/T-mobile) 128GB Classy Blue 6.8\\\"\"]\n",
    "\n",
    "join_df[\"ItemName\"] = join_df[\"ItemName\"].apply(\n",
    "    lambda x: \"drop_this\" if any(x in y for y in drop_rows) else x\n",
    ")\n",
    "#print(join_df[join_df[\"ItemName\"]== \"drop_this\"])\n",
    "\n",
    "df = join_df.drop(join_df[join_df[\"ItemName\"] == \"drop_this\"].index)\n",
    "\n",
    "print(df.sort_values(\"ItemPrice\", ascending=False))"
   ]
  },
  {
   "cell_type": "code",
   "execution_count": null,
   "metadata": {},
   "outputs": [],
   "source": [
    "#Clean up the Item sales column using pandas string methods\n",
    "salesreport_df['Item sales'] = salesreport_df['Item sales'].str.replace('$', '').str.strip().astype(float)\n",
    "\n",
    "\n",
    "print(salesreport_df['Item sales'].dtype)\n"
   ]
  },
  {
   "attachments": {},
   "cell_type": "markdown",
   "metadata": {},
   "source": [
    "Descriptive Statistics"
   ]
  },
  {
   "cell_type": "code",
   "execution_count": null,
   "metadata": {},
   "outputs": [],
   "source": [
    "df.describe()"
   ]
  },
  {
   "cell_type": "code",
   "execution_count": null,
   "metadata": {},
   "outputs": [],
   "source": [
    "df.to_csv('COGS')\n",
    "salesreport_df.to_csv('sales_report')"
   ]
  },
  {
   "cell_type": "code",
   "execution_count": null,
   "metadata": {},
   "outputs": [],
   "source": [
    "import numpy as np\n",
    "import matplotlib.pyplot as plt\n",
    "\n",
    "def binomial_distribution(n, p):\n",
    "    x = np.arange(0, n+1)\n",
    "    probabilities = [binomial_pmf(k, n, p) for k in x]\n",
    "\n",
    "    plt.bar(x, probabilities)\n",
    "    plt.xlabel('Number of Successes')\n",
    "    plt.ylabel('Probability')\n",
    "    plt.title('Binomial Distribution (n={}, p={})'.format(n, p))\n",
    "    plt.show()\n",
    "\n",
    "def binomial_pmf(k, n, p):\n",
    "    binomial_coeff = np.math.comb(n, k)\n",
    "    probability = binomial_coeff * (p ** k) * ((1 - p) ** (n - k))\n",
    "    return probability\n",
    "\n",
    "# Example usage\n",
    "n = 10  # Number of trials\n",
    "p = 0.5  # Probability of success\n",
    "\n",
    "binomial_distribution(n, p)"
   ]
  },
  {
   "cell_type": "code",
   "execution_count": null,
   "metadata": {},
   "outputs": [],
   "source": [
    "Gross Profit Margin = sales_report[\"Net sales (Net of taxes and selling costs)\"] - COGS[\"ItemPrice\"]"
   ]
  },
  {
   "attachments": {},
   "cell_type": "markdown",
   "metadata": {},
   "source": [
    "#### Scratch work (converting DAX logic into python and vice-versa): \n",
    "NetSales_clean = IF(ISBLANK(Joined_Ebay_Store_Data[Net sales (Net of taxes and selling costs)]), Joined_Ebay_Store_Data[ItemPrice]*1.2, Joined_Ebay_Store_Data[Net sales (Net of taxes and selling costs)])\n",
    "Month = Joined_Ebay_Store_Data[OrderDate]\n"
   ]
  },
  {
   "attachments": {},
   "cell_type": "markdown",
   "metadata": {},
   "source": [
    "Next year: Create a store-itemid dictionary that checks the listing status of the new itemid as completed as sold for your store and searches for the itemid of the original item that your item is based on so that it keeps a separate dictionary of all sold items. Then when joining the sales_report table with the purchase_history table, you can join on where salesreport_df.merge(purchasehistory_df, on/where=store_items[salesreport_df[\"eBay item ID\"]][\"original_id\"]=purchasehistory_df[\"Item ID\"]). This is joining the tables based on the original item for the ebay item id sold and the item id that was actual purchased which should be the original item id."
   ]
  }
 ],
 "metadata": {
  "kernelspec": {
   "display_name": "base",
   "language": "python",
   "name": "python3"
  },
  "language_info": {
   "codemirror_mode": {
    "name": "ipython",
    "version": 3
   },
   "file_extension": ".py",
   "mimetype": "text/x-python",
   "name": "python",
   "nbconvert_exporter": "python",
   "pygments_lexer": "ipython3",
   "version": "3.9.13"
  },
  "orig_nbformat": 4
 },
 "nbformat": 4,
 "nbformat_minor": 2
}
