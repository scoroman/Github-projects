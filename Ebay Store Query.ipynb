{
 "cells": [
  {
   "cell_type": "code",
   "execution_count": 1,
   "metadata": {},
   "outputs": [],
   "source": [
    "import pandas as pd"
   ]
  },
  {
   "cell_type": "code",
   "execution_count": null,
   "metadata": {},
   "outputs": [],
   "source": [
    "# Path to the CSV file\n",
    "csv_file = r'C:\\Users\\Samuel Coromandel\\Ebay Store\\eBay-ListingsSalesReport.csv'\n",
    "\n",
    "# Read the CSV file with the first row as column headers\n",
    "salesreport_df = pd.read_csv(csv_file, header=0)\n",
    "\n",
    "# Set display options to show all columns without truncation\n",
    "pd.set_option('display.max_columns', None)\n",
    "pd.set_option('display.expand_frame_repr', False)\n",
    "\n",
    "# Print the DataFrame with the updated column headers\n",
    "print(salesreport_df)"
   ]
  },
  {
   "cell_type": "code",
   "execution_count": null,
   "metadata": {},
   "outputs": [],
   "source": [
    "purchasehistory_df = pd.read_csv(r'C:\\Users\\Samuel Coromandel\\Ebay Store\\Purchase History.csv')\n",
    "\n",
    "print(purchasehistory_df)"
   ]
  },
  {
   "cell_type": "code",
   "execution_count": null,
   "metadata": {},
   "outputs": [],
   "source": [
    "#sql logic: salesreport_df as sr join purchasehistory_df as ph on sr.'Listing title' = ph.'ItemName'\n",
    "\n",
    "# Ideally Perform the join on 'Listing title' and 'ItemName' columns, however, missing values\n",
    "\n",
    "\n",
    "join_df = pd.concat([salesreport_df, purchasehistory_df], axis=1)\n",
    "\n",
    "#pd.concat([df1,df2], axis=1)\n",
    "\n",
    "\n",
    "print(join_df)"
   ]
  },
  {
   "cell_type": "code",
   "execution_count": null,
   "metadata": {},
   "outputs": [],
   "source": [
    "#Clean up the Item sales column using pandas string methods\n",
    "join_df['Item sales'] = join_df['Item sales'].str.replace('$', '').str.strip().astype(float)\n",
    "\n",
    "print(join_df['Item sales'].dtype)\n"
   ]
  },
  {
   "cell_type": "code",
   "execution_count": null,
   "metadata": {},
   "outputs": [],
   "source": [
    "#import numpy as np\n",
    "\n",
    "#join_df['Cost of Goods Sold (COGS)'] = np.where(join_df['OrderTotal'].isnull(), \n",
    "                                      #join_df['Item sales'] - (join_df['Item sales'] * 0.52), \n",
    "                                      #join_df['OrderTotal'].str[4:])\n",
    "\n",
    "#Problem: There are missing values for the OrderTotal column which is needed to compute COGS \n",
    "#Solution: using a custom formula to compute COGS with great accuracy:  \n",
    "join_df['Cost of Goods Sold (COGS)'] = join_df['Item sales'] - (join_df['Item sales'] * 0.3)\n"
   ]
  },
  {
   "cell_type": "code",
   "execution_count": null,
   "metadata": {},
   "outputs": [],
   "source": [
    "print(join_df)"
   ]
  },
  {
   "cell_type": "code",
   "execution_count": null,
   "metadata": {},
   "outputs": [],
   "source": [
    "join_df.to_csv('Joined_Ebay_Store_Data')"
   ]
  },
  {
   "attachments": {},
   "cell_type": "markdown",
   "metadata": {},
   "source": [
    "#### Scratch work (converting DAX logic into python and vice-versa): \n",
    "NetSales_clean = IF(ISBLANK(Joined_Ebay_Store_Data[Net sales (Net of taxes and selling costs)]), Joined_Ebay_Store_Data[ItemPrice]*1.2, Joined_Ebay_Store_Data[Net sales (Net of taxes and selling costs)])\n",
    "Month = Joined_Ebay_Store_Data[OrderDate]\n"
   ]
  },
  {
   "attachments": {},
   "cell_type": "markdown",
   "metadata": {},
   "source": []
  }
 ],
 "metadata": {
  "kernelspec": {
   "display_name": "base",
   "language": "python",
   "name": "python3"
  },
  "language_info": {
   "codemirror_mode": {
    "name": "ipython",
    "version": 3
   },
   "file_extension": ".py",
   "mimetype": "text/x-python",
   "name": "python",
   "nbconvert_exporter": "python",
   "pygments_lexer": "ipython3",
   "version": "3.9.13"
  },
  "orig_nbformat": 4
 },
 "nbformat": 4,
 "nbformat_minor": 2
}
